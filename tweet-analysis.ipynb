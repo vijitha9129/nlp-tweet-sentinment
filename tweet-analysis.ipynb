{
 "cells": [
  {
   "cell_type": "code",
   "execution_count": 1,
   "id": "8f77d77b-7b88-49c4-80e2-834e685cd089",
   "metadata": {},
   "outputs": [],
   "source": [
    "import pandas as pd"
   ]
  },
  {
   "cell_type": "code",
   "execution_count": 4,
   "id": "ab5a900b-8142-4d42-9dd5-b420274aaec4",
   "metadata": {},
   "outputs": [],
   "source": [
    "pd.set_option('display.max_colwidth', None)"
   ]
  },
  {
   "cell_type": "code",
   "execution_count": 2,
   "id": "b90c2ead-b211-4a5d-bf2f-1d455014d811",
   "metadata": {},
   "outputs": [],
   "source": [
    "df = pd.read_csv('data/train.csv')"
   ]
  },
  {
   "cell_type": "code",
   "execution_count": 5,
   "id": "d344edb7-0f97-4edc-9c68-42c6697a3c35",
   "metadata": {},
   "outputs": [
    {
     "data": {
      "text/html": [
       "<div>\n",
       "<style scoped>\n",
       "    .dataframe tbody tr th:only-of-type {\n",
       "        vertical-align: middle;\n",
       "    }\n",
       "\n",
       "    .dataframe tbody tr th {\n",
       "        vertical-align: top;\n",
       "    }\n",
       "\n",
       "    .dataframe thead th {\n",
       "        text-align: right;\n",
       "    }\n",
       "</style>\n",
       "<table border=\"1\" class=\"dataframe\">\n",
       "  <thead>\n",
       "    <tr style=\"text-align: right;\">\n",
       "      <th></th>\n",
       "      <th>id</th>\n",
       "      <th>keyword</th>\n",
       "      <th>location</th>\n",
       "      <th>text</th>\n",
       "      <th>target</th>\n",
       "    </tr>\n",
       "  </thead>\n",
       "  <tbody>\n",
       "    <tr>\n",
       "      <th>4199</th>\n",
       "      <td>5962</td>\n",
       "      <td>hazard</td>\n",
       "      <td>scandinavia</td>\n",
       "      <td>December 2011 court dismissed the group charge of rape victims saying 'getting raped was an occupational hazard..!'\\n\\nUS military = ISIS!</td>\n",
       "      <td>0</td>\n",
       "    </tr>\n",
       "    <tr>\n",
       "      <th>4481</th>\n",
       "      <td>6373</td>\n",
       "      <td>hostages</td>\n",
       "      <td>Brazos Valley, Texas</td>\n",
       "      <td>Cruz: Iran deal Û÷leaves 4 American hostages languishing in IranÛª  http://t.co/EXsQIJF4nY - #NoIranDeal  #TedCruz2016 http://t.co/y7sIPKB1kd</td>\n",
       "      <td>1</td>\n",
       "    </tr>\n",
       "  </tbody>\n",
       "</table>\n",
       "</div>"
      ],
      "text/plain": [
       "        id   keyword              location  \\\n",
       "4199  5962    hazard           scandinavia   \n",
       "4481  6373  hostages  Brazos Valley, Texas   \n",
       "\n",
       "                                                                                                                                                 text  \\\n",
       "4199       December 2011 court dismissed the group charge of rape victims saying 'getting raped was an occupational hazard..!'\\n\\nUS military = ISIS!   \n",
       "4481  Cruz: Iran deal Û÷leaves 4 American hostages languishing in IranÛª  http://t.co/EXsQIJF4nY - #NoIranDeal  #TedCruz2016 http://t.co/y7sIPKB1kd   \n",
       "\n",
       "      target  \n",
       "4199       0  \n",
       "4481       1  "
      ]
     },
     "execution_count": 5,
     "metadata": {},
     "output_type": "execute_result"
    }
   ],
   "source": [
    "df.sample(2)"
   ]
  },
  {
   "cell_type": "code",
   "execution_count": null,
   "id": "f060c3db-74d3-4184-ac8c-d561e00414e6",
   "metadata": {},
   "outputs": [],
   "source": []
  },
  {
   "cell_type": "code",
   "execution_count": null,
   "id": "4bad1191-1109-4987-b675-1e0abe031236",
   "metadata": {},
   "outputs": [],
   "source": []
  }
 ],
 "metadata": {
  "kernelspec": {
   "display_name": "Python 3 (ipykernel)",
   "language": "python",
   "name": "python3"
  },
  "language_info": {
   "codemirror_mode": {
    "name": "ipython",
    "version": 3
   },
   "file_extension": ".py",
   "mimetype": "text/x-python",
   "name": "python",
   "nbconvert_exporter": "python",
   "pygments_lexer": "ipython3",
   "version": "3.8.13"
  }
 },
 "nbformat": 4,
 "nbformat_minor": 5
}
